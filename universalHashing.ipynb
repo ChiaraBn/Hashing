{
 "cells": [
  {
   "cell_type": "code",
   "execution_count": 1,
   "metadata": {},
   "outputs": [],
   "source": [
    "import numpy as np\n",
    "import cProfile"
   ]
  },
  {
   "cell_type": "markdown",
   "metadata": {},
   "source": [
    "## Algorithm Design 2019-20 @ Computer Science - Università di Pisa\n",
    "\n",
    "### Scribes: Chiara Boni, Eleonora Di Gregorio \n",
    "### Lecturer: Roberto Grossi \n",
    "\n",
    "# Hashing\n",
    "## Universal Hash Family\n",
    "\n",
    "### Definitions and goals"
   ]
  },
  {
   "cell_type": "markdown",
   "metadata": {},
   "source": [
    "The motivation behind the construction of a $universal hash family$ is due to the fact that any fixed hash function could face a worst-case scenario in which all the keys are stored in the same slot in the table, increasing the average retrieval time.<br>\n",
    "In universal hashing, the function is selected $randomly$ and $independently$ from a class of functions. <br>\n",
    "The winning aspect of this approach stands on the randomized selection, because it can guarantee that no single input will evoke the worst-case scenario, since the algorithm will behave differently on each execution. <p>\n",
    "    \n",
    "Given $H$, a finite set of hash functions that maps a universe $U$ of keys into the range {0, 1,..., m - 1}, it is called universal if, for each pair of distinct keys $k,l \\in U$, the number of hash functions $h \\in H$ for which $h(k) = h(l)$ is at most $|H| / m$. <br>\n",
    "Hence, given a function randomly chosen, the probability of a collision with two distict keys is 1/m: <br>\n",
    "$P[h(k) = h(l)] = 1/m$ <p>\n",
    "    \n",
    "$Load factor$<br>\n",
    "Given an hash function $h$, randomly chosen from an universal collection, which stores $n$ keys into a table: if key $k$ is not in the table, then the expected length $E[n_{h(k)}]$ of the list that $k$ hashes is at most the $load factor$ $\\alpha = n / m$. <br>\n",
    "If $k$ is in the table, then the expected length $E[n_{h(k)}]$ of the list cointaining $k$ is at most 1 + $\\alpha$. <p>\n",
    "\n",
    "$Proof$<br>\n",
    "For each pair $k$ and $l$ of distinct keys, define the indicator random variable<br>\n",
    "    $X _{kl}$ = $I${$h(k) = h(l)$}. <br>\n",
    "By definition of _universal hashing_, a pair of keys have the probability of collision of at most $1 / m$, $Pr$ {$ h(k) = h(l)$} $\\le 1 / m$. <br>\n",
    "    Therefore $E$[$X _{kl}$] $\\le 1 / m$. <p>\n",
    " \n",
    "Then, it's possible to assign a random variable $Y_{k}$ for each key, that equals to the number of keys that hash to the same slot as $k$.<br>\n",
    "$Y_{k}$ = $\\sum_{l \\in T, l \\ne k}$ $X_{kl}$. <br>\n",
    "   \n",
    "Then, <br>\n",
    "$E$[$Y_{k}$] = $E \\biggl[ \\sum _{l \\in T, l \\ne k}$ $X_{kl}$ $\\biggr]$ <br><br>\n",
    "= $Y_{k}$ = $\\sum _{l \\in T, l \\ne k}$  $X_{kl}$ (by linearity of expectation) <br><br>\n",
    "        $\\le Y_{k}$ = $\\sum _{l \\in T, l} \\frac1m$. <p>\n",
    "    \n",
    "The last thing to show depends on whether key $k$ is in the table. <br>\n",
    "\n",
    "- if $k$ $\\not\\in$ $T$, then $n _{h(k)}$ = $Y_{k}$, and $|${$l : l \\in T$ and $l \\not = k$}$| = n$.<br>\n",
    "Therefore, $E$[$n_{h(k)}$] = $E$[$Y_{k}$] $\\le n / m = \\alpha$.<br>\n",
    "    \n",
    "- if $k \\in T$, then the count $Y_{k}$ does not include $k$, since it is in the list $T[h(k)]$. <br>\n",
    " $n_{h(k)}$ = $Y_{k} + 1$ and $|${$l : l \\in T$ and $l \\not = k$}$| = n - 1$.<br>\n",
    " $E$[$n_{h(k)}$] = $E$[$Y_{k}$] $+ 1 \\le (n - 1)/m + 1 = 1 + \\alpha - 1/m < 1 + \\alpha$. <p>"
   ]
  },
  {
   "cell_type": "markdown",
   "metadata": {},
   "source": [
    "### Designing a universal class of hash functions"
   ]
  },
  {
   "cell_type": "code",
   "execution_count": null,
   "metadata": {},
   "outputs": [],
   "source": []
  },
  {
   "cell_type": "markdown",
   "metadata": {},
   "source": [
    "### Code"
   ]
  },
  {
   "cell_type": "code",
   "execution_count": null,
   "metadata": {},
   "outputs": [],
   "source": []
  },
  {
   "cell_type": "markdown",
   "metadata": {},
   "source": [
    "### Animation"
   ]
  },
  {
   "cell_type": "code",
   "execution_count": null,
   "metadata": {},
   "outputs": [],
   "source": []
  },
  {
   "cell_type": "markdown",
   "metadata": {},
   "source": [
    "### References"
   ]
  },
  {
   "cell_type": "markdown",
   "metadata": {},
   "source": []
  }
 ],
 "metadata": {
  "kernelspec": {
   "display_name": "Python 3",
   "language": "python",
   "name": "python3"
  },
  "language_info": {
   "codemirror_mode": {
    "name": "ipython",
    "version": 3
   },
   "file_extension": ".py",
   "mimetype": "text/x-python",
   "name": "python",
   "nbconvert_exporter": "python",
   "pygments_lexer": "ipython3",
   "version": "3.7.6"
  }
 },
 "nbformat": 4,
 "nbformat_minor": 4
}
