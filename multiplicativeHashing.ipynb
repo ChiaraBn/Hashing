{
 "cells": [
  {
   "cell_type": "code",
   "execution_count": 1,
   "metadata": {
    "pycharm": {
     "name": "#%%md\n"
    }
   },
   "outputs": [],
   "source": [
    "import random"
   ]
  },
  {
   "cell_type": "markdown",
   "metadata": {},
   "source": [
    "## Algorithm Design 2019-20 @ Computer Science - Università di Pisa\n",
    "\n",
    "### Scribes: Chiara Boni, Eleonora Di Gregorio \n",
    "### Lecturer: Roberto Grossi \n",
    "\n",
    "# Hashing"
   ]
  },
  {
   "cell_type": "markdown",
   "metadata": {},
   "source": [
    "## Multiplicative Universal Hashing"
   ]
  },
  {
   "cell_type": "markdown",
   "metadata": {},
   "source": [
    "### Definitions and goals\n",
    "\n",
    "\n",
    "Recalling that $h: U \\rightarrow$ [$m$] is an hashing function, generated randomly, which maps from an universe $U$ of keys to a set of hash values [$m$] = {$0,...,m-1$}; it is $universal$, therefore for any given distinct keys $x,y \\in U$, there is a low probability of collision in $h$: <br>\n",
    "$Pr_{h}$[$h(x) = h(y)$] $\\le 1/m$. <br>\n",
    "$h$ is called $c-universal$ when, for some $c = O(1)$ and $c \\ge 1$, $Pr_{h}$[$h(x) = h(y)$] $\\le c/m$. <p>"
   ]
  },
  {
   "cell_type": "markdown",
   "metadata": {},
   "source": [
    "### Designing multiplicative universal hashing"
   ]
  },
  {
   "cell_type": "markdown",
   "metadata": {},
   "source": [
    "This scheme was proposed by Dietzfelbinger and it generally addresses hashing from $w$-bit integers to $l$-bit integers.<br>"
   ]
  },
  {
   "cell_type": "code",
   "execution_count": 2,
   "metadata": {
    "pycharm": {
     "name": "#%%md\n"
    }
   },
   "outputs": [
    {
     "name": "stdout",
     "output_type": "stream",
     "text": [
      "h:[18446744073709551616]->[4096]\n"
     ]
    }
   ],
   "source": [
    "w = 64\n",
    "l = 12\n",
    "print(\"h:[\"+str(pow(2, w))+\"]->[\"+str(pow(2, l))+\"]\")"
   ]
  },
  {
   "cell_type": "markdown",
   "metadata": {
    "pycharm": {
     "name": "#%% md\n"
    }
   },
   "source": [
    "After picking uniformly at random an odd $w$-bit integer $a$, it has to be computed $h_{a}:$[$2^{w}$] $\\rightarrow$ [$2^{l}$], as $h_{a}(x)$ = {($ax$ mod $2^{w}$)/$2^{w-l}$}.<br>"
   ]
  },
  {
   "cell_type": "code",
   "execution_count": 3,
   "metadata": {
    "pycharm": {
     "name": "#%%md\n"
    }
   },
   "outputs": [
    {
     "name": "stdout",
     "output_type": "stream",
     "text": [
      "a=8641261826262442449\n"
     ]
    }
   ],
   "source": [
    "def getOdd(m):  # return an odd value in range 0 m-1\n",
    "    n = random.randint(1, m - 2)\n",
    "    if n % 2 == 0:\n",
    "        n = n + 1\n",
    "    return n\n",
    "a = getOdd(pow(2, w))\n",
    "print(\"a=\"+str(a))"
   ]
  },
  {
   "cell_type": "markdown",
   "metadata": {
    "pycharm": {
     "name": "#%% md\n"
    }
   },
   "source": [
    "With this schema, the numbers are stored as $bit$ $strings$, with the least significant bit to the right, so the integer division by a power of two would be represented as a $right$ $shift$. <br>"
   ]
  },
  {
   "cell_type": "code",
   "execution_count": 4,
   "metadata": {
    "pycharm": {
     "name": "#%%md\n"
    }
   },
   "outputs": [
    {
     "name": "stdout",
     "output_type": "stream",
     "text": [
      "h(x)=2763=101011001011\n"
     ]
    }
   ],
   "source": [
    "x = 42\n",
    "ax = 42*a\n",
    "h_x = int(ax %pow(2,w)/ pow(2,w-l))\n",
    "print(\"h(x)=\"+str(h_x)+\"=\"+str(bin(h_x)[2:]))"
   ]
  },
  {
   "cell_type": "markdown",
   "metadata": {
    "pycharm": {
     "name": "#%% md\n"
    }
   },
   "source": [
    "It operates by extracting bits from $w-l$ to $w-1$, from the product $ax$, as illustrated: <br>\n",
    "<img src=\"./files/bitVector.png\" /> <p>"
   ]
  },
  {
   "cell_type": "code",
   "execution_count": 5,
   "metadata": {
    "pycharm": {
     "name": "#%%md\n"
    }
   },
   "outputs": [
    {
     "name": "stdout",
     "output_type": "stream",
     "text": [
      "101011001011\n"
     ]
    }
   ],
   "source": [
    "shift = bin(ax)[-(w):-((w)-l)]\n",
    "print(shift)"
   ]
  },
  {
   "cell_type": "markdown",
   "metadata": {
    "pycharm": {
     "name": "#%% md\n"
    }
   },
   "source": [
    "$Claim$ <br>\n",
    "Multiply-shift is 2-universal, for $x \\ne y$, therefore: <br>\n",
    "$$Pr_{a \\in [2^{w}], odd}[h_{a}(x) = h_{a}(y)] \\le 2/2^{l} = 2/m$$ <p>\n",
    "    \n",
    "$Proof$ <br>\n",
    "$h_{a}(x) = h_{a}(y)$ is a collision which occurs only if $ax$ and $ay = ax + a(y-x)$ are the same on the bits $w-l,..,w-1$. <br>\n",
    "This match requires that bits $w-l,..,w-1$ of $(y-x)$ are either all 0s or 1s. <br>\n",
    "In order to have this condition fulfilled, two possible cases arise, when we add $a(y-x)$ to $ax$: if there's no carry, $h_{a}(x) = h_{a}(y)$ happens when all the bits $w-l,..,w-1$ of $a(y-x)$ are 0s; otherwise, if there's a carry, $h_{a}(x) = h_{a}(y)$ happens when all the bits are 1s.<br>     \n",
    "Therefore, to prove the claim is sufficient to prove that the probability that all bits $w-l,..,w-1$ of $a(y-x)$ are all 0s, or all 1s, is at most $2/2^{l}$. <p>\n",
    "\n",
    "$Fact.$ If $\\alpha$ is odd and $\\beta \\in [2^{q}]$ then $\\alpha\\beta \\equiv 0$ (mod $a^{q}$). <br>\n",
    "This exploit that any odd number $z$ is relatively prime to any power of two.<p>\n",
    "    \n",
    "Let's define $b$ such that $a = 1 + 2b$, then $b$ is uniformly distributed in [$2^{w-1}$], since $a$ is uniformly distributed in [$2^{w}$]. <br>\n",
    "Define $z$ to be the odd number satisfying $(y-x) = z2^{i}$, then $a(y-x) = z2^{i} + bz2^{i+1}$.<br>\n",
    "<img src=\"./files/claim.png\" /> <p>\n",
    "\n",
    "It is remained to prove that $bz$ mod $2^{w-1}$ is uniformly distributed in $[2^{w-1}]$. <br>\n",
    "Note that there's a 1-1 correspondence between the $b \\in [2^{w-1}]$ and the products $bz$ mod $2^{w-1}$; for if there was another $b^{'} \\in [2^{w-1}]$ with $b^{'}z \\equiv bz$ (mod $2^{w-1}$) $\\iff$ $z(b^{'} - b) \\equiv 0$ (mod $2^{w-1}$), then this would contradict the fact 1, since $z$ is odd. <br>\n",
    "The uniform distribution on $b$ implies that $bz$ mod $2^{w-1}$ is uniformly distributed too. <br>\n",
    "This concludes that $a(y-x) = z2^{i} + bz2^{i+1}$ has bits set to $0$ until $i-1$, then a bit set to $1$ in position $i$ and a uniform distribution on bits $i+1,...,i+w-1$. <p>\n",
    "    \n",
    "The collision $h_{a}(x) = h_{a}(y)$ happens when $ax$ and $ay= ax + a(y-x)$ are identical on bits $w-l,..,w-1$ <br>\n",
    "The two are always different in bit $i$, so if $i \\ge w-l$, there won't any collision, regardless of $a$.<br>\n",
    "However, if $i < w-l$, then because of carries there could be a collision if bits $w-l,..,w-1$ of $a(y-x)$ are either 0s or 1s. <br>\n",
    "Because of the uniform distribution, either this event happens with probability $1/2^{l}$, for a combined probability bounded by $2/2^{l}$, which completes the proof."
   ]
  },
  {
   "cell_type": "markdown",
   "metadata": {},
   "source": [
    "### Code"
   ]
  },
  {
   "cell_type": "code",
   "execution_count": 6,
   "metadata": {},
   "outputs": [
    {
     "name": "stdout",
     "output_type": "stream",
     "text": [
      "S = [11, 25, 36, 41, 57, 65, 13, 29, 49]\n",
      "h(x) = (12518956011447531325*x % 2^64) / 2^(64-12)\n",
      "11*a=1110111011100010110111011011100111000110111110010000101111110011111\n",
      "x*a[w-1,w-l]=011101110001\n",
      "h(11)=1905=11101110001\n",
      "25*a=100001111011101100010101010000001101001111110110001110110010011110101\n",
      "x*a[w-1,w-l]=111101110110\n",
      "h(25)=3958=111101110110\n",
      "36*a=110000110111001111001100101011110100010110110100011111100010010010100\n",
      "x*a[w-1,w-l]=011011100111\n",
      "h(36)=1767=11011100111\n",
      "41*a=110111101001100100110111010101011101011001111111010101101100011000101\n",
      "x*a[w-1,w-l]=110100110010\n",
      "h(41)=3378=110100110010\n",
      "57*a=1001101010111011101011001011010101101100100001000011100100110010010101\n",
      "x*a[w-1,w-l]=101011101110\n",
      "h(57)=2798=101011101110\n",
      "65*a=1011000001110011001101010011101010101101001001101000000000011001111101\n",
      "x*a[w-1,w-l]=000111001100\n",
      "h(65)=460=111001100\n",
      "13*a=10001101001010001111011101100010001001000001111011001100111000011001\n",
      "x*a[w-1,w-l]=110100101000\n",
      "h(13)=3368=110100101000\n",
      "29*a=100111010111001010011101110001100001010010011000100000100000111101001\n",
      "x*a[w-1,w-l]=101011100101\n",
      "h(29)=2789=101011100101\n",
      "49*a=1000010100000100001001000011000000101011111000011111001001001010101101\n",
      "x*a[w-1,w-l]=010000010000\n",
      "h(49)=1040=10000010000\n"
     ]
    }
   ],
   "source": [
    "def getOdd(m):  # return an odd value in range 0 m-1\n",
    "    n = random.randint(1, m - 2)\n",
    "    if n % 2 == 0:\n",
    "        n = n + 1\n",
    "    return n\n",
    "\n",
    "\n",
    "class MultiplicativeHashFamily(object):\n",
    "    def __init__(self, w=64, l=12):\n",
    "        self.w = w\n",
    "        self.l = l\n",
    "        self.a = 0\n",
    "\n",
    "    def randomChoose(self):\n",
    "        self.a = a = getOdd(pow(2, w))\n",
    "        return lambda x: int(((a * x) % pow(2, self.w)) / pow(2, (self.w - self.l)))\n",
    "\n",
    "    def __str__(self):\n",
    "        return \"h(x) = (%d*x %% 2^%d) / 2^(%d-%d)\" % (self.a, self.w, self.w, self.l)\n",
    "\n",
    "\n",
    "def buildMultiplicativeHash(S, w=64, l=12):\n",
    "    H = MultiplicativeHashFamily(w, l)\n",
    "    h = H.randomChoose()\n",
    "    print(H)\n",
    "    for elem in S:\n",
    "        ax = elem * H.a\n",
    "        print(str(elem) + \"*a=\" + str(bin(ax)[2:]))\n",
    "        test = bin(ax)[-(H.w):-((H.w)-l)]\n",
    "        print(\"x*a[w-1,w-l]=\" + str(test))\n",
    "        hash = h(elem)\n",
    "        print(\"h(\" + str(elem) + \")=\" + str(hash) + \"=\" + bin(hash)[2:])\n",
    "\n",
    "\n",
    "# test the multiplicative hash\n",
    "S = [11, 25, 36, 41, 57, 65, 13, 29, 49]\n",
    "print(\"S =\", S)\n",
    "buildMultiplicativeHash(S, 64, 12)"
   ]
  },
  {
   "cell_type": "markdown",
   "metadata": {},
   "source": [
    "### References"
   ]
  },
  {
   "cell_type": "markdown",
   "metadata": {},
   "source": [
    "Mikkel Thorup,High Speed Hashing for Integers and Strings,CoRR,abs/1504.06804,2015, http://arxiv.org/abs/1504.06804"
   ]
  }
 ],
 "metadata": {
  "kernelspec": {
   "display_name": "Python 3",
   "language": "python",
   "name": "python3"
  },
  "language_info": {
   "codemirror_mode": {
    "name": "ipython",
    "version": 3
   },
   "file_extension": ".py",
   "mimetype": "text/x-python",
   "name": "python",
   "nbconvert_exporter": "python",
   "pygments_lexer": "ipython3",
   "version": "3.8.2"
  }
 },
 "nbformat": 4,
 "nbformat_minor": 4
}