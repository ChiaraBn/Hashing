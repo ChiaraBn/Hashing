{
 "cells": [
  {
   "cell_type": "markdown",
   "source": [
    "## Algorithm Design 2019-20 @ Computer Science - Università di Pisa\n",
    "\n",
    "### Scribes: Chiara Boni, Eleonora Di Gregorio\n",
    "### Lecturer: Roberto Grossi\n",
    "\n",
    "# Hashing\n",
    "## Perfect Hashing\n",
    "\n",
    "### Definitions and goals"
   ],
   "metadata": {
    "collapsed": false
   }
  },
  {
   "cell_type": "markdown",
   "source": [
    "Hashing is often a good choice for its excellent average-case performance, but what if the set of the keys we want to store\n",
    "is static? Having a $static$ $set$ $of$ $keys$ means that once the keys are stored in a table, the set of keys never changes, this\n",
    "could happen in several real word applications: the set of reserved words in a programming languge, or the set of file names on\n",
    "a CD-ROM.  <br>\n",
    "\n",
    "A hashing technique is called $perfect$ $hashing$ if $O(1)$ memory accesses are required to perform a search in the worst case. <br>\n",
    "This means that given a subset $S$ of the universe of keys $U$, hashing is called perfect for $S$ iff no collisions occurs.\n",
    "\n",
    "$$\n",
    "\\begin{array}{c}\n",
    "S \\subseteq U, \\forall\tk_1,k2\n",
    "\\end{array}\n",
    "$$\n",
    "\n",
    "$$ S \\subseteq U, \\forall\tk_1,k2 $$"
   ],
   "metadata": {
    "collapsed": false
   }
  },
  {
   "cell_type": "markdown",
   "source": [
    "### Designing a Perfect Hashing Scheme\n"
   ],
   "metadata": {
    "collapsed": false
   }
  },
  {
   "cell_type": "markdown",
   "source": [
    "To create Perfect Hasing, a two level scheme is needed, with universal hashing at each level. The"
   ],
   "metadata": {
    "collapsed": false
   }
  }
 ],
 "metadata": {
  "kernelspec": {
   "display_name": "Python 3",
   "language": "python",
   "name": "python3"
  },
  "language_info": {
   "codemirror_mode": {
    "name": "ipython",
    "version": 2
   },
   "file_extension": ".py",
   "mimetype": "text/x-python",
   "name": "python",
   "nbconvert_exporter": "python",
   "pygments_lexer": "ipython2",
   "version": "2.7.6"
  }
 },
 "nbformat": 4,
 "nbformat_minor": 0
}