{
 "cells": [
  {
   "cell_type": "markdown",
   "metadata": {},
   "source": [
    "informatica ## Algorithm Design 2019-20 @ Computer Science - Università di Pisa\n",
    "\n",
    "### Scribes: Chiara Boni, Eleonora Di Gregorio\n",
    "### Lecturer: Roberto Grossi\n",
    "\n",
    "# Hashing\n",
    "## Perfect Hashing\n",
    "\n",
    "### Definitions and goals"
   ]
  },
  {
   "cell_type": "markdown",
   "metadata": {},
   "source": [
    "Hashing is often a good choice for its excellent average-case performance, but what if the set of the keys we want to store\n",
    "is static? Having a $static$ $set$ $of$ $keys$ means that once the keys are stored in a table, the set of keys never changes, this\n",
    "could happen in several real word applications: the set of reserved words in a programming languge, or the set of file names on\n",
    "a CD-ROM. In this case hashing can also provide excellent worst-case performance. <br>\n",
    "\n",
    "A hashing technique is called $perfect$ $hashing$ if $O(1)$ memory accesses are required to perform a search in the worst case. <br>\n",
    "This means that given a subset $S$ of the universe of keys $U$, hashing is called perfect for $S$ if and only if no collisions occurs.\n",
    "\n",
    "\n",
    "\n",
    "$$ S \\subseteq U, \\forall\tk_1,k_2 \\in S, k_1 \\ne k_2 \\iff h(k_1) \\ne h(k_2) $$"
   ]
  },
  {
   "cell_type": "markdown",
   "metadata": {},
   "source": [
    "### Designing a Perfect Hashing Scheme\n"
   ]
  },
  {
   "cell_type": "markdown",
   "metadata": {},
   "source": [
    "To create Perfect Hasing, a two level scheme is needed, with universal hashing at each level. The levels are built as follows:\n",
    "- Create a table with $m$ slots, $m$ could be equal to $n$,the cardinality of $S$, or twice this value. <br>\n",
    "    Hash the $n$ keys into $m$ slots using a hash function $h$ selected from  family of universal hash functions $H$.\n",
    "- Instead of making a link list of keys hashing to slot j, create a small secondary hash table of $m_j = n_j^2$ buckets, where $n_j$ is the cardinality of\n",
    "    of $S_j =\\{x \\in S | h(x) = j \\}$, the elements of S_j will be inserted according to a selected universal hash function $h_j$.<br>\n",
    "\n",
    "To prove that the hashing is perfect we have to prove that:\n",
    " - the secondary table has no collisions.\n",
    " - the amount of memory used overall is linear in the number of elements to be stored.\n",
    "\n",
    "##### First Claim\n",
    "$$ Pr(h_j is perfect for S_j) >= \\frac{1}{2}$$\n",
    "\n",
    "$Proof$ <br>\n",
    "Considering that $h_j$ is perfect for S_j if no collisions occur, define a random variable $X$ that counts the number of collisions as follows:\n",
    "\n",
    "$$\n",
    "X_k_l =\\begin{cases}\n",
    " 1& \\text{}  k \\ne l, h_j(k)=h_j(l)\\\\\n",
    " 0& \\text{ ow }\n",
    "\\end{cases}\n",
    "$$\n",
    "$$\n",
    "\n",
    "$$\n",
    "\n"
   ]
  },
  {
   "cell_type": "markdown",
   "source": [
    "### Code"
   ],
   "metadata": {
    "collapsed": false
   }
  },
  {
   "cell_type": "code",
   "execution_count": null,
   "outputs": [],
   "source": [
    "#"
   ],
   "metadata": {
    "collapsed": false,
    "pycharm": {
     "name": "#%%\n"
    }
   }
  },
  {
   "cell_type": "markdown",
   "source": [],
   "metadata": {
    "collapsed": false
   }
  },
  {
   "cell_type": "markdown",
   "source": [
    "### Animation\n"
   ],
   "metadata": {
    "collapsed": false
   }
  },
  {
   "cell_type": "markdown",
   "source": [
    "\n",
    "\n"
   ],
   "metadata": {
    "collapsed": false
   }
  }
 ],
 "metadata": {
  "kernelspec": {
   "display_name": "Python 3",
   "language": "python",
   "name": "python3"
  },
  "language_info": {
   "codemirror_mode": {
    "name": "ipython",
    "version": 3
   },
   "file_extension": ".py",
   "mimetype": "text/x-python",
   "name": "python",
   "nbconvert_exporter": "python",
   "pygments_lexer": "ipython3",
   "version": "3.8.2"
  }
 },
 "nbformat": 4,
 "nbformat_minor": 1
}