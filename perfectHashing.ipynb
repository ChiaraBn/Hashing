{
 "cells": [
  {
   "cell_type": "markdown",
   "metadata": {},
   "source": [
    "## Algorithm Design 2019-20 @ Computer Science - Università di Pisa\n",
    "\n",
    "### Scribes: Chiara Boni, Eleonora Di Gregorio\n",
    "### Lecturer: Roberto Grossi\n",
    "\n",
    "# Hashing\n",
    "## Perfect Hashing\n",
    "\n",
    "### Definitions and goals"
   ]
  },
  {
   "cell_type": "markdown",
   "metadata": {},
   "source": [
    "Hashing is often a good choice for its excellent average-case performance, but what if the set of the keys we want to store\n",
    "is static? Having a $static$ $set$ $of$ $keys$ means that once the keys are stored in a table, the set of keys never changes, this\n",
    "could happen in several real word applications: the set of reserved words in a programming languge, or the set of file names on\n",
    "a CD-ROM. In this case hashing can also provide excellent worst-case performance. <br>\n",
    "\n",
    "A hashing technique is called $perfect$ $hashing$ if $O(1)$ memory accesses are required to perform a search in the worst case. <br>\n",
    "This means that given a subset $S$ of the universe of keys $U$, hashing is called perfect for $S$ if and only if no collisions occurs.\n",
    "\n",
    "\n",
    "\n",
    "$$ S \\subseteq U, \\forall\tk_1,k_2 \\in S, k_1 \\ne k_2 \\iff h(k_1) \\ne h(k_2) $$"
   ]
  },
  {
   "cell_type": "markdown",
   "metadata": {},
   "source": [
    "### Designing a Perfect Hashing Scheme\n"
   ]
  },
  {
   "cell_type": "markdown",
   "metadata": {},
   "source": [
    "To create Perfect Hasing, a two level scheme is needed, with universal hashing at each level. The levels are built as follows:\n",
    "- Create a table with $m$ slots, $m$ could be equal to $n$ or linear in the value of $n$,the cardinality of $S$, or twice this value. <br>\n",
    "    Hash the $n$ keys into $m$ slots using a hash function $h$ selected from  family of universal hash functions $H$.\n",
    "- Instead of making a link list of keys hashing to slot j, create a small secondary hash table of $m_j = n_j^2$ buckets, where $n_j$ is the cardinality of\n",
    "    of $S_j =\\{x \\in S | h(x) = j \\}$, the elements of $S_j$ will be inserted according to a selected universal hash function $h_j$.<br>\n",
    "\n",
    "To prove that the hashing is perfect we have to ensure that:\n",
    " - the secondary table has no collisions.\n",
    " - the amount of memory used overall is linear in the number of elements to be stored.\n",
    "\n",
    "##### First Claim\n",
    "Suppose that we store  keys in a hash table of size $m = n^2$ using a hash function $h_j$ randomly chosen from a universal class of hash functions.\n",
    "Then, the probability is less than $1/2$ that there are any collisions. <br>\n",
    "\n",
    "$$ Pr(h_j\\: is\\: perfect\\: for\\:  S_j) \\ge \\frac{1}{2}$$\n",
    "\n",
    "$Proof$ <br>\n",
    "Considering that $h_j$ is perfect for $S_j$ if no collisions occur, define a random variable $X$ that counts the number of collisions as follows:\n",
    "\n",
    "$$\n",
    "X_{kl} =\\begin{cases}\n",
    " 1& \\text{}  k \\ne l, h_j(k)=h_j(l)\\\\\n",
    " 0& \\text{}  ow\n",
    "\\end{cases}\n",
    "$$\n",
    "<br>\n",
    "$$\n",
    "X =  \\sum_{k < l} X_{kl} = \\text{ #collisions}\n",
    "$$\n",
    "\n",
    "Now we have to keep in mind that $h_j$ is a universal hash function so the probability that it each pairs of elements collide is $\\frac{1}{m_j}$.\n",
    "\n",
    "$Pr[X = 0] = 1 - Pr[X \\ge 1 ] \\ge \\frac{1}{2}$ , so we need to demostrate $ Pr[X \\ge 1 ] <  \\frac{1}{2}$\n",
    "<br>\n",
    "\n",
    "$Pr[X \\ge 1] <\\;\\; \\; \\; \\; \\; \\; \\; \\; \\; \\; \\; \\; (Markov's\\:  Inequality)$<br>\n",
    "\n",
    "$E[X] =\\; \\; \\; \\; \\; \\; \\; \\; \\; \\; \\;\\; \\; \\; \\; \\; \\; \\; \\;\\; \\; (Linearity\\:  of\\:  Expectation)$<br>\n",
    "\n",
    "$\\sum_{k < l} E[X_{kl}] =$<br>\n",
    "\n",
    "$\\sum_{k < l}Pr[X_{kl} = 1] =$<br>\n",
    "\n",
    "$\\sum_{k < l} \\frac{1}{m_j} =\\; \\; \\; \\; \\; \\; \\; \\; \\; \\; \\;\\; \\; \\; \\; \\; (For\\: each\\: couple\\: in\\: that\\: bucket)$<br>\n",
    "\n",
    "$\\binom{n_j}{2}\\frac{1}{m_j}=\\; \\; \\; \\; \\; \\; \\; \\; \\; \\; \\; \\; \\; \\; \\; \\; \\; \\; \\; (m_j=n_j^2) $<br>\n",
    "\n",
    "$\\frac{n_j(n_j-1)}{2}\\cdot\\frac{1}{n_j^2} <$<br>\n",
    "\n",
    "$\\frac{1}{2}$<br>\n",
    "\n",
    "\n",
    "##### Second Claim\n",
    "Suppose that we store $n$ keys in a hash table of size $m = n$ using a hash function h randomly chosen from a universal class of hash functions. Then the\n",
    "probability that the number of buckets is less than $4n$ is less $1/2$<br>\n",
    "\n",
    "$$Pr_{h \\in H}(\\sum_{j=0}^{m-1}n_j^2\\le 4n) \\gt \\frac{1}{2}$$\n",
    "\n",
    "$Proof$<br>\n",
    "\n",
    "$E[\\sum_{j=0}^{m-1} n_j^2] \\;\\; \\; \\; \\; \\; \\; \\; \\; \\; \\; \\; \\; \\; \\; \\; \\; \\; \\; \\;  \\; \\; \\; \\; \\; \\; \\; \\; \\; \\; \\; \\; \\; \\;(a^2=a+\\binom{a}{2})$<br>\n",
    "\n",
    "$= E[\\sum_{j=0}^{m-1} (n_j +2\\binom{n_j}{2})]\\; \\; \\; \\; \\; \\; \\;\\; \\; \\; \\;  \\; \\; \\; \\; \\; \\;(by\\: linearity\\: of\\: expectation\\:)$<br>\n",
    "\n",
    "$= E[\\sum_{j=0}^{m-1}n_j] +2E[\\sum_{j=0}^{m-1}\\binom{n_j}{2}] \\; \\;  \\; \\; \\;(E[n_j] = n/m)$<br>\n",
    "\n",
    "$= n +2E[\\sum_{j=0}^{m-1}\\binom{n_j}{2}] \\; \\; \\; \\; \\; \\;\\; \\; \\;  \\; \\; \\; \\; \\; \\;\\; \\; \\; \\; \\; \\;(The\\: summation\\: is\\: the\\: total\\: number\\: of\\: keys\\: that\\: collide)$<br>\n",
    "\n",
    "$= n + 2\\binom{n}{2} \\frac{1}{m} $<br>\n",
    "\n",
    "$= n+ 2\\frac{n(n-1)}{2m}\\; \\; \\; \\; \\; \\;\\; \\; \\;  \\; \\; \\; \\; \\; \\;\\; \\; \\; \\; \\; \\; \\; \\; \\; \\; \\; \\; \\;\\; \\; \\; \\; (m=n)$<br>\n",
    "\n",
    "$= n +n-1 $<br>\n",
    "\n",
    "$< 2n$<br>\n",
    "\n",
    "Using Markov's Inequality:<br>\n",
    "$Pr[\\sum_{j=0}^{m-1}n_j^2 \\ge 4n] \\le \\frac{E[\\sum_{j=0}^{m-1}n_j^2]}{4n}<\\frac{2n}{2\\cdot 2n} = \\frac{1}{2}$\n",
    "\n",
    "At this point subtracting this value to 1 to obtain what we want to prove."
   ]
  },
  {
   "cell_type": "markdown",
   "metadata": {},
   "source": [
    "### Markov's Inequality\n"
   ]
  },
  {
   "cell_type": "markdown",
   "metadata": {},
   "source": [
    "To prove previous claims we used $Markov's\\; inequalty$, it gives  an upper bound for the probability that a non-negative function of a random variable is greater than or equal to some positive constant.\n",
    "Markov's inequality relates probabilities to expectations, and provides bounds for the cumulative distribution function of a random variable.\n",
    "\n",
    "##### Statement\n",
    "If $X$ is a non negative random variable and $a > 0$, then the probability that $X$ is at least $a$ is at most the expectation of $X$ divided by $a$: <br>\n",
    "$$ Pr(X \\ge a) \\le \\frac{E(X)}{a}$$\n",
    "\n",
    "$Proof$<br>\n",
    "Consider the random indicator variable $I$:<br>\n",
    "$$\n",
    "I =\\begin{cases}\n",
    " 1& \\text{}  X \\ge a\\\\\n",
    " 0& \\text{}  ow\n",
    "\\end{cases}\n",
    "$$\n",
    "\n",
    "than, given $a > 0$ we can observe that:<br>\n",
    "\n",
    "$a\\cdot I \\le X $.<br>\n",
    "\n",
    "Indeed if $X < a$ then $I = 0$ an $a\\cdot I=0$, else $X \\ge a$ and $I = 1$. Since $E$ is a monotonically increasing function, taking expectation of both sides of an inequality cannot reverse it. Therefore,<br>\n",
    "\n",
    "$E(a)\\le E(X)$.<br>\n",
    "\n",
    "Now, using linearity of expectations, the left side of this inequality is the same as<br>\n",
    "\n",
    "$aE(I)= a(1\\cdot Pr(X \\ge a)+0\\cdot Pr(X < a)) = aPr(X\\ge a)$.<br>\n",
    "\n",
    "Thus we have<br>\n",
    "\n",
    "$aPr(X \\ge a) \\le E(X)$\n",
    "\n",
    "and since $a > 0$, we can divide both sides by $a$."
   ]
  },
  {
   "cell_type": "markdown",
   "metadata": {},
   "source": [
    "### Code"
   ]
  },
  {
   "cell_type": "code",
   "execution_count": 1,
   "metadata": {
    "pycharm": {
     "name": "#%%\n"
    }
   },
   "outputs": [
    {
     "name": "stdout",
     "output_type": "stream",
     "text": [
      "S = [11, 25, 36, 41, 57, 66, 73, 89, 95]\n",
      "h(x) = (11*x+16 % 19) % 18\n",
      "buckets = [[], [66], [73], [], [11], [], [25], [89], [], [], [], [41], [], [36], [], [], [57, 95], []]\n",
      "bucket sizes =  [0, 1, 1, 0, 1, 0, 1, 1, 0, 0, 0, 1, 0, 1, 0, 0, 2, 0]\n",
      "bucket table = [66] where h(x) = (1*x+1 % 2) % 1\n",
      "bucket table = [73] where h(x) = (1*x+1 % 2) % 1\n",
      "bucket table = [11] where h(x) = (1*x+0 % 2) % 1\n",
      "bucket table = [25] where h(x) = (1*x+1 % 2) % 1\n",
      "bucket table = [89] where h(x) = (1*x+1 % 2) % 1\n",
      "bucket table = [41] where h(x) = (1*x+1 % 2) % 1\n",
      "bucket table = [36] where h(x) = (1*x+1 % 2) % 1\n",
      "bucket table = [57, None, 95, None] where h(x) = (4*x+2 % 5) % 4\n",
      "total table space 11\n"
     ]
    }
   ],
   "source": [
    "import math\n",
    "import random\n",
    "\n",
    "\n",
    "def getPrime( m ):   # naive method to find a prime in [m+1, 2m]\n",
    "    def isPrime (x):\n",
    "        for i in range(2, int(math.sqrt(x))):\n",
    "            if x % i == 0:\n",
    "                return False\n",
    "        return True\n",
    "\n",
    "    for p in range(m+1, 2*m+1):\n",
    "        if isPrime(p):\n",
    "            return p\n",
    "\n",
    "\n",
    "class UniversalHashFamily(object):\n",
    "   def __init__(self, rangeSize):\n",
    "      self.m = rangeSize\n",
    "      self.p = getPrime( rangeSize )\n",
    "      self.a = 0\n",
    "      self.b = 0\n",
    "\n",
    "   def randomChoose(self):\n",
    "      self.a = a = random.randint(1, self.p-1)\n",
    "      self.b = b = random.randint(0, self.p-1)\n",
    "      return lambda x: ((a * x + b) % self.p) % self.m\n",
    "\n",
    "   def __str__(self):\n",
    "       return \"h(x) = (%d*x+%d %% %d) %% %d\" % (self.a,self.b,self.p,self.m)\n",
    "\n",
    "def buildPerfectHash( S ):\n",
    "    n = len(S)\n",
    "    m = 2*n\n",
    "\n",
    "    H = UniversalHashFamily(rangeSize=m)\n",
    "    h = H.randomChoose()\n",
    "    print (H)\n",
    "\n",
    "    buckets = [[] for i in range(m)]\n",
    "    bucketSize = [0] * m\n",
    "    bucketHash = [ None ] * m\n",
    "    bucketTable = [[] for i in range(m)]\n",
    "\n",
    "    for i in range(n):\n",
    "        buckets[ h(S[i]) ] += [ S[i] ]\n",
    "        bucketSize[ h(S[i]) ] += 1\n",
    "    print( \"buckets =\", buckets )\n",
    "    print( \"bucket sizes = \", bucketSize)\n",
    "\n",
    "    for i in range(m):\n",
    "        if (bucketSize[i] > 0):\n",
    "            F = UniversalHashFamily(rangeSize=int(bucketSize[i]*bucketSize[i]))\n",
    "            g = bucketHash[i] = F.randomChoose()\n",
    "            t = bucketTable[i] = [None] * (bucketSize[i]*bucketSize[i])\n",
    "            for j in range(bucketSize[i]):\n",
    "                key = buckets[i][j]\n",
    "                if t[ g(key) ] != None:  # rehashing\n",
    "                    print (\"Collision detected: rerun!\")\n",
    "                    exit(1)\n",
    "                t[ g(key) ] = key\n",
    "            print( \"bucket table =\", t, \"where\", F)\n",
    "    print( \"total table space\", sum([bucketSize[i]*bucketSize[i] for i in range(m)]))\n",
    "\n",
    "\n",
    "\n",
    "# test the perfect hash\n",
    "S = [ 11, 25, 36, 41, 57, 66, 73, 89, 95 ]\n",
    "print(\"S =\", S)\n",
    "buildPerfectHash( S )\n",
    "\n",
    "#"
   ]
  },
  {
   "cell_type": "markdown",
   "metadata": {},
   "source": []
  },
  {
   "cell_type": "markdown",
   "metadata": {},
   "source": [
    "### Animation\n"
   ]
  },
  {
   "cell_type": "markdown",
   "metadata": {},
   "source": [
    "\n",
    "\n"
   ]
  }
 ],
 "metadata": {
  "kernelspec": {
   "display_name": "Python 3",
   "language": "python",
   "name": "python3"
  },
  "language_info": {
   "codemirror_mode": {
    "name": "ipython",
    "version": 3
   },
   "file_extension": ".py",
   "mimetype": "text/x-python",
   "name": "python",
   "nbconvert_exporter": "python",
   "pygments_lexer": "ipython3",
   "version": "3.8.2"
  }
 },
 "nbformat": 4,
 "nbformat_minor": 1
}